{
 "cells": [
  {
   "cell_type": "code",
   "execution_count": 15,
   "metadata": {
    "collapsed": true
   },
   "outputs": [],
   "source": [
    "# this workbook demonstrates how to use PySparkML to do single variable binary regression\n",
    "# the setup is a bit contrived, since this is a how-to demo\n",
    "# The gapminder_data has an additional column, \"Over_65\", which is set to 1 or 0 \n",
    "# based on whether the life expectancy in 2007 is above or below 65\n",
    "# we then train a regression model to predict whether life expectancy is above or below 65\n",
    "# we will use this to predict the values used to train the model, as well as\n",
    "# to see what cutoff value the model uses for this binary mapping\n",
    "# (which in this contrived example should, of course, be close to 65)\n",
    "# \n",
    "# we will do this with 1) a decision tree regressor, and 2) a random forest regressor\n",
    "#\n",
    "# this code parallels the continuous regression workbook example\n",
    "# please see that example for more comments and explanations"
   ]
  },
  {
   "cell_type": "code",
   "execution_count": 16,
   "metadata": {
    "collapsed": true
   },
   "outputs": [],
   "source": [
    "from pyspark import SparkConf, SparkContext\n",
    "from pyspark.sql import SQLContext"
   ]
  },
  {
   "cell_type": "code",
   "execution_count": 17,
   "metadata": {},
   "outputs": [
    {
     "ename": "ValueError",
     "evalue": "Cannot run multiple SparkContexts at once; existing SparkContext(app=pyspark-shell, master=local) created by __init__ at <ipython-input-6-80d619339f4b>:2 ",
     "output_type": "error",
     "traceback": [
      "\u001b[0;31m---------------------------------------------------------------------------\u001b[0m",
      "\u001b[0;31mValueError\u001b[0m                                Traceback (most recent call last)",
      "\u001b[0;32m<ipython-input-17-80d619339f4b>\u001b[0m in \u001b[0;36m<module>\u001b[0;34m()\u001b[0m\n\u001b[1;32m      1\u001b[0m \u001b[0;32mfrom\u001b[0m \u001b[0mpyspark\u001b[0m\u001b[0;34m.\u001b[0m\u001b[0msql\u001b[0m\u001b[0;34m.\u001b[0m\u001b[0msession\u001b[0m \u001b[0;32mimport\u001b[0m \u001b[0mSparkSession\u001b[0m\u001b[0;34m\u001b[0m\u001b[0m\n\u001b[0;32m----> 2\u001b[0;31m \u001b[0msc\u001b[0m \u001b[0;34m=\u001b[0m \u001b[0mSparkContext\u001b[0m\u001b[0;34m(\u001b[0m\u001b[0;34m'local'\u001b[0m\u001b[0;34m)\u001b[0m\u001b[0;34m\u001b[0m\u001b[0m\n\u001b[0m\u001b[1;32m      3\u001b[0m \u001b[0mspark\u001b[0m \u001b[0;34m=\u001b[0m \u001b[0mSparkSession\u001b[0m\u001b[0;34m(\u001b[0m\u001b[0msc\u001b[0m\u001b[0;34m)\u001b[0m\u001b[0;34m\u001b[0m\u001b[0m\n",
      "\u001b[0;32m~/anaconda/lib/python3.5/site-packages/pyspark/context.py\u001b[0m in \u001b[0;36m__init__\u001b[0;34m(self, master, appName, sparkHome, pyFiles, environment, batchSize, serializer, conf, gateway, jsc, profiler_cls)\u001b[0m\n\u001b[1;32m    113\u001b[0m         \"\"\"\n\u001b[1;32m    114\u001b[0m         \u001b[0mself\u001b[0m\u001b[0;34m.\u001b[0m\u001b[0m_callsite\u001b[0m \u001b[0;34m=\u001b[0m \u001b[0mfirst_spark_call\u001b[0m\u001b[0;34m(\u001b[0m\u001b[0;34m)\u001b[0m \u001b[0;32mor\u001b[0m \u001b[0mCallSite\u001b[0m\u001b[0;34m(\u001b[0m\u001b[0;32mNone\u001b[0m\u001b[0;34m,\u001b[0m \u001b[0;32mNone\u001b[0m\u001b[0;34m,\u001b[0m \u001b[0;32mNone\u001b[0m\u001b[0;34m)\u001b[0m\u001b[0;34m\u001b[0m\u001b[0m\n\u001b[0;32m--> 115\u001b[0;31m         \u001b[0mSparkContext\u001b[0m\u001b[0;34m.\u001b[0m\u001b[0m_ensure_initialized\u001b[0m\u001b[0;34m(\u001b[0m\u001b[0mself\u001b[0m\u001b[0;34m,\u001b[0m \u001b[0mgateway\u001b[0m\u001b[0;34m=\u001b[0m\u001b[0mgateway\u001b[0m\u001b[0;34m,\u001b[0m \u001b[0mconf\u001b[0m\u001b[0;34m=\u001b[0m\u001b[0mconf\u001b[0m\u001b[0;34m)\u001b[0m\u001b[0;34m\u001b[0m\u001b[0m\n\u001b[0m\u001b[1;32m    116\u001b[0m         \u001b[0;32mtry\u001b[0m\u001b[0;34m:\u001b[0m\u001b[0;34m\u001b[0m\u001b[0m\n\u001b[1;32m    117\u001b[0m             self._do_init(master, appName, sparkHome, pyFiles, environment, batchSize, serializer,\n",
      "\u001b[0;32m~/anaconda/lib/python3.5/site-packages/pyspark/context.py\u001b[0m in \u001b[0;36m_ensure_initialized\u001b[0;34m(cls, instance, gateway, conf)\u001b[0m\n\u001b[1;32m    312\u001b[0m                         \u001b[0;34m\" created by %s at %s:%s \"\u001b[0m\u001b[0;34m\u001b[0m\u001b[0m\n\u001b[1;32m    313\u001b[0m                         % (currentAppName, currentMaster,\n\u001b[0;32m--> 314\u001b[0;31m                             callsite.function, callsite.file, callsite.linenum))\n\u001b[0m\u001b[1;32m    315\u001b[0m                 \u001b[0;32melse\u001b[0m\u001b[0;34m:\u001b[0m\u001b[0;34m\u001b[0m\u001b[0m\n\u001b[1;32m    316\u001b[0m                     \u001b[0mSparkContext\u001b[0m\u001b[0;34m.\u001b[0m\u001b[0m_active_spark_context\u001b[0m \u001b[0;34m=\u001b[0m \u001b[0minstance\u001b[0m\u001b[0;34m\u001b[0m\u001b[0m\n",
      "\u001b[0;31mValueError\u001b[0m: Cannot run multiple SparkContexts at once; existing SparkContext(app=pyspark-shell, master=local) created by __init__ at <ipython-input-6-80d619339f4b>:2 "
     ]
    }
   ],
   "source": [
    "from pyspark.sql.session import SparkSession\n",
    "sc = SparkContext('local')\n",
    "spark = SparkSession(sc)"
   ]
  },
  {
   "cell_type": "code",
   "execution_count": 18,
   "metadata": {
    "collapsed": true
   },
   "outputs": [],
   "source": [
    "sqlContext = SQLContext(sc)"
   ]
  },
  {
   "cell_type": "code",
   "execution_count": 8,
   "metadata": {
    "collapsed": true
   },
   "outputs": [],
   "source": [
    "df = sqlContext.read.format(\"csv\").option(\"inferschema\",\"true\").option(\"header\", \"true\").option(\"delimiter\", \",\").load(\"gapminder_all_binary.csv\")"
   ]
  },
  {
   "cell_type": "code",
   "execution_count": 9,
   "metadata": {},
   "outputs": [
    {
     "name": "stdout",
     "output_type": "stream",
     "text": [
      "root\n",
      " |-- continent: string (nullable = true)\n",
      " |-- country: string (nullable = true)\n",
      " |-- gdpPercap_1952: double (nullable = true)\n",
      " |-- gdpPercap_1957: double (nullable = true)\n",
      " |-- gdpPercap_1962: double (nullable = true)\n",
      " |-- gdpPercap_1967: double (nullable = true)\n",
      " |-- gdpPercap_1972: double (nullable = true)\n",
      " |-- gdpPercap_1977: double (nullable = true)\n",
      " |-- gdpPercap_1982: double (nullable = true)\n",
      " |-- gdpPercap_1987: double (nullable = true)\n",
      " |-- gdpPercap_1992: double (nullable = true)\n",
      " |-- gdpPercap_1997: double (nullable = true)\n",
      " |-- gdpPercap_2002: double (nullable = true)\n",
      " |-- gdpPercap_2007: double (nullable = true)\n",
      " |-- lifeExp_1952: double (nullable = true)\n",
      " |-- lifeExp_1957: double (nullable = true)\n",
      " |-- lifeExp_1962: double (nullable = true)\n",
      " |-- lifeExp_1967: double (nullable = true)\n",
      " |-- lifeExp_1972: double (nullable = true)\n",
      " |-- lifeExp_1977: double (nullable = true)\n",
      " |-- lifeExp_1982: double (nullable = true)\n",
      " |-- lifeExp_1987: double (nullable = true)\n",
      " |-- lifeExp_1992: double (nullable = true)\n",
      " |-- lifeExp_1997: double (nullable = true)\n",
      " |-- lifeExp_2002: double (nullable = true)\n",
      " |-- lifeExp_2007: double (nullable = true)\n",
      " |-- pop_1952: double (nullable = true)\n",
      " |-- pop_1957: decimal(9,0) (nullable = true)\n",
      " |-- pop_1962: decimal(9,0) (nullable = true)\n",
      " |-- pop_1967: decimal(9,0) (nullable = true)\n",
      " |-- pop_1972: decimal(9,0) (nullable = true)\n",
      " |-- pop_1977: decimal(9,0) (nullable = true)\n",
      " |-- pop_1982: decimal(10,0) (nullable = true)\n",
      " |-- pop_1987: decimal(10,0) (nullable = true)\n",
      " |-- pop_1992: decimal(10,0) (nullable = true)\n",
      " |-- pop_1997: decimal(10,0) (nullable = true)\n",
      " |-- pop_2002: integer (nullable = true)\n",
      " |-- pop_2007: integer (nullable = true)\n",
      " |-- Over_65: integer (nullable = true)\n",
      "\n"
     ]
    }
   ],
   "source": [
    "df.printSchema()"
   ]
  },
  {
   "cell_type": "code",
   "execution_count": 10,
   "metadata": {
    "collapsed": true
   },
   "outputs": [],
   "source": [
    "from pyspark.ml.feature import VectorAssembler"
   ]
  },
  {
   "cell_type": "code",
   "execution_count": 11,
   "metadata": {},
   "outputs": [
    {
     "name": "stdout",
     "output_type": "stream",
     "text": [
      "+--------+-------+\n",
      "|features|Over_65|\n",
      "+--------+-------+\n",
      "|[72.301]|      1|\n",
      "|[42.731]|      0|\n",
      "|[56.728]|      0|\n",
      "|[50.728]|      0|\n",
      "|[52.295]|      0|\n",
      "| [49.58]|      0|\n",
      "| [50.43]|      0|\n",
      "|[44.741]|      0|\n",
      "|[50.651]|      0|\n",
      "|[65.152]|      1|\n",
      "+--------+-------+\n",
      "only showing top 10 rows\n",
      "\n"
     ]
    }
   ],
   "source": [
    "vectorAssembler = VectorAssembler(inputCols = ['lifeExp_2007'], outputCol = 'features')\n",
    "va = vectorAssembler.transform(df)\n",
    "va = va.select(['features', 'Over_65'])\n",
    "va.show(10)"
   ]
  },
  {
   "cell_type": "code",
   "execution_count": 12,
   "metadata": {
    "collapsed": true
   },
   "outputs": [],
   "source": [
    "from pyspark.ml.regression import DecisionTreeRegressor"
   ]
  },
  {
   "cell_type": "code",
   "execution_count": 13,
   "metadata": {},
   "outputs": [],
   "source": [
    "dt = DecisionTreeRegressor(featuresCol ='features', labelCol = 'Over_65')"
   ]
  },
  {
   "cell_type": "code",
   "execution_count": 14,
   "metadata": {
    "collapsed": true
   },
   "outputs": [],
   "source": [
    "dt_model = dt.fit(va)"
   ]
  },
  {
   "cell_type": "code",
   "execution_count": 23,
   "metadata": {
    "collapsed": true
   },
   "outputs": [],
   "source": [
    "dt_predictions = dt_model.transform(va)"
   ]
  },
  {
   "cell_type": "code",
   "execution_count": 24,
   "metadata": {},
   "outputs": [
    {
     "name": "stdout",
     "output_type": "stream",
     "text": [
      "+--------+-------+----------+\n",
      "|features|Over_65|prediction|\n",
      "+--------+-------+----------+\n",
      "|[72.301]|      1|       1.0|\n",
      "|[42.731]|      0|       0.0|\n",
      "|[56.728]|      0|       0.0|\n",
      "|[50.728]|      0|       0.0|\n",
      "|[52.295]|      0|       0.0|\n",
      "| [49.58]|      0|       0.0|\n",
      "| [50.43]|      0|       0.0|\n",
      "|[44.741]|      0|       0.0|\n",
      "|[50.651]|      0|       0.0|\n",
      "|[65.152]|      1|      0.25|\n",
      "|[46.462]|      0|       0.0|\n",
      "|[55.322]|      0|       0.0|\n",
      "|[48.328]|      0|       0.0|\n",
      "|[54.791]|      0|       0.0|\n",
      "|[71.338]|      1|       1.0|\n",
      "|[51.579]|      0|       0.0|\n",
      "| [58.04]|      0|       0.0|\n",
      "|[52.947]|      0|       0.0|\n",
      "|[56.735]|      0|       0.0|\n",
      "|[59.448]|      0|       0.0|\n",
      "|[60.022]|      0|       0.0|\n",
      "|[56.007]|      0|       0.0|\n",
      "|[46.388]|      0|       0.0|\n",
      "| [54.11]|      0|       0.0|\n",
      "|[42.592]|      0|       0.0|\n",
      "|[45.678]|      0|       0.0|\n",
      "|[73.952]|      1|       1.0|\n",
      "|[59.443]|      0|       0.0|\n",
      "|[48.303]|      0|       0.0|\n",
      "|[54.467]|      0|       0.0|\n",
      "|[64.164]|      0|      0.25|\n",
      "|[72.801]|      1|       1.0|\n",
      "|[71.164]|      1|       1.0|\n",
      "|[42.082]|      0|       0.0|\n",
      "|[52.906]|      0|       0.0|\n",
      "|[56.867]|      0|       0.0|\n",
      "|[46.859]|      0|       0.0|\n",
      "|[76.442]|      1|       1.0|\n",
      "|[46.242]|      0|       0.0|\n",
      "|[65.528]|      1|       1.0|\n",
      "|[63.062]|      0|       0.2|\n",
      "|[42.568]|      0|       0.0|\n",
      "|[48.159]|      0|       0.0|\n",
      "|[49.339]|      0|       0.0|\n",
      "|[58.556]|      0|       0.0|\n",
      "|[39.613]|      0|       0.0|\n",
      "|[52.517]|      0|       0.0|\n",
      "| [58.42]|      0|       0.0|\n",
      "|[73.923]|      1|       1.0|\n",
      "|[51.542]|      0|       0.0|\n",
      "|[42.384]|      0|       0.0|\n",
      "|[43.487]|      0|       0.0|\n",
      "| [75.32]|      1|       1.0|\n",
      "|[65.554]|      1|       1.0|\n",
      "| [72.39]|      1|       1.0|\n",
      "|[80.653]|      1|       1.0|\n",
      "|[78.553]|      1|       1.0|\n",
      "|[72.889]|      1|       1.0|\n",
      "|[78.782]|      1|       1.0|\n",
      "|[78.273]|      1|       1.0|\n",
      "|[72.235]|      1|       1.0|\n",
      "|[74.994]|      1|       1.0|\n",
      "|[71.878]|      1|       1.0|\n",
      "|[70.259]|      1|       1.0|\n",
      "|[60.916]|      0|       0.2|\n",
      "|[70.198]|      1|       1.0|\n",
      "|[72.567]|      1|       1.0|\n",
      "|[76.195]|      1|       0.8|\n",
      "|[72.899]|      1|       1.0|\n",
      "|[75.537]|      1|       1.0|\n",
      "|[71.752]|      1|       1.0|\n",
      "|[71.421]|      1|       1.0|\n",
      "|[78.746]|      1|       1.0|\n",
      "|[69.819]|      1|       1.0|\n",
      "|[78.242]|      1|       1.0|\n",
      "|[76.384]|      1|       0.8|\n",
      "|[73.747]|      1|       1.0|\n",
      "|[43.828]|      0|       0.0|\n",
      "|[75.635]|      1|       1.0|\n",
      "|[64.062]|      0|      0.25|\n",
      "|[59.723]|      0|       0.0|\n",
      "|[72.961]|      1|       1.0|\n",
      "|[82.208]|      1|       1.0|\n",
      "|[64.698]|      0|      0.25|\n",
      "| [70.65]|      1|       1.0|\n",
      "|[70.964]|      1|       1.0|\n",
      "|[59.545]|      0|       0.0|\n",
      "|[80.745]|      1|       1.0|\n",
      "|[82.603]|      1|       1.0|\n",
      "|[72.535]|      1|       1.0|\n",
      "|[67.297]|      1|       1.0|\n",
      "|[78.623]|      1|       1.0|\n",
      "|[77.588]|      1|       1.0|\n",
      "|[71.993]|      1|       1.0|\n",
      "|[74.241]|      1|       1.0|\n",
      "|[66.803]|      1|       1.0|\n",
      "|[62.069]|      0|       0.2|\n",
      "|[63.785]|      0|       0.2|\n",
      "| [75.64]|      1|       0.8|\n",
      "|[65.483]|      1|       1.0|\n",
      "+--------+-------+----------+\n",
      "only showing top 100 rows\n",
      "\n"
     ]
    }
   ],
   "source": [
    "de_predictions.show(100)"
   ]
  },
  {
   "cell_type": "code",
   "execution_count": 25,
   "metadata": {
    "collapsed": true
   },
   "outputs": [],
   "source": [
    "from pyspark.ml.regression import RandomForestRegressor"
   ]
  },
  {
   "cell_type": "code",
   "execution_count": 28,
   "metadata": {
    "collapsed": true
   },
   "outputs": [],
   "source": [
    "rf = RandomForestRegressor(featuresCol ='features', labelCol = 'Over_65', numTrees=20)"
   ]
  },
  {
   "cell_type": "code",
   "execution_count": 29,
   "metadata": {
    "collapsed": true
   },
   "outputs": [],
   "source": [
    "rf_model = rf.fit(va)"
   ]
  },
  {
   "cell_type": "code",
   "execution_count": 30,
   "metadata": {
    "collapsed": true
   },
   "outputs": [],
   "source": [
    "predictions = rf_model.transform(va)"
   ]
  },
  {
   "cell_type": "code",
   "execution_count": 31,
   "metadata": {},
   "outputs": [
    {
     "name": "stdout",
     "output_type": "stream",
     "text": [
      "+--------+-------+-------------------+\n",
      "|features|Over_65|         prediction|\n",
      "+--------+-------+-------------------+\n",
      "|[72.301]|      1|                1.0|\n",
      "|[42.731]|      0|                0.0|\n",
      "|[56.728]|      0|                0.0|\n",
      "|[50.728]|      0|                0.0|\n",
      "|[52.295]|      0|                0.0|\n",
      "| [49.58]|      0|                0.0|\n",
      "| [50.43]|      0|                0.0|\n",
      "|[44.741]|      0|                0.0|\n",
      "|[50.651]|      0|                0.0|\n",
      "|[65.152]|      1|0.18958333333333333|\n",
      "|[46.462]|      0|                0.0|\n",
      "|[55.322]|      0|                0.0|\n",
      "|[48.328]|      0|                0.0|\n",
      "|[54.791]|      0|                0.0|\n",
      "|[71.338]|      1|                1.0|\n",
      "|[51.579]|      0|                0.0|\n",
      "| [58.04]|      0|                0.0|\n",
      "|[52.947]|      0|                0.0|\n",
      "|[56.735]|      0|                0.0|\n",
      "|[59.448]|      0|                0.0|\n",
      "|[60.022]|      0|                0.0|\n",
      "|[56.007]|      0|                0.0|\n",
      "|[46.388]|      0|                0.0|\n",
      "| [54.11]|      0|                0.0|\n",
      "|[42.592]|      0|                0.0|\n",
      "|[45.678]|      0|                0.0|\n",
      "|[73.952]|      1|                1.0|\n",
      "|[59.443]|      0|                0.0|\n",
      "|[48.303]|      0|                0.0|\n",
      "|[54.467]|      0|                0.0|\n",
      "|[64.164]|      0|0.18958333333333333|\n",
      "|[72.801]|      1|                1.0|\n",
      "|[71.164]|      1|                1.0|\n",
      "|[42.082]|      0|                0.0|\n",
      "|[52.906]|      0|                0.0|\n",
      "|[56.867]|      0|                0.0|\n",
      "|[46.859]|      0|                0.0|\n",
      "|[76.442]|      1|                1.0|\n",
      "|[46.242]|      0|                0.0|\n",
      "|[65.528]|      1|                1.0|\n",
      "|[63.062]|      0|0.26208333333333333|\n",
      "|[42.568]|      0|                0.0|\n",
      "|[48.159]|      0|                0.0|\n",
      "|[49.339]|      0|                0.0|\n",
      "|[58.556]|      0|                0.0|\n",
      "|[39.613]|      0|                0.0|\n",
      "|[52.517]|      0|                0.0|\n",
      "| [58.42]|      0|                0.0|\n",
      "|[73.923]|      1|                1.0|\n",
      "|[51.542]|      0|                0.0|\n",
      "|[42.384]|      0|                0.0|\n",
      "|[43.487]|      0|                0.0|\n",
      "| [75.32]|      1|                1.0|\n",
      "|[65.554]|      1|                1.0|\n",
      "| [72.39]|      1|                1.0|\n",
      "|[80.653]|      1|                1.0|\n",
      "|[78.553]|      1|                1.0|\n",
      "|[72.889]|      1|                1.0|\n",
      "|[78.782]|      1|                1.0|\n",
      "|[78.273]|      1|                1.0|\n",
      "|[72.235]|      1|                1.0|\n",
      "|[74.994]|      1|                1.0|\n",
      "|[71.878]|      1|                1.0|\n",
      "|[70.259]|      1|                1.0|\n",
      "|[60.916]|      0|0.26208333333333333|\n",
      "|[70.198]|      1|                1.0|\n",
      "|[72.567]|      1|                1.0|\n",
      "|[76.195]|      1| 0.8650396825396826|\n",
      "|[72.899]|      1|                1.0|\n",
      "|[75.537]|      1|                1.0|\n",
      "|[71.752]|      1|                1.0|\n",
      "|[71.421]|      1|                1.0|\n",
      "|[78.746]|      1|                1.0|\n",
      "|[69.819]|      1|                1.0|\n",
      "|[78.242]|      1|                1.0|\n",
      "|[76.384]|      1| 0.8650396825396826|\n",
      "|[73.747]|      1|                1.0|\n",
      "|[43.828]|      0|                0.0|\n",
      "|[75.635]|      1|                1.0|\n",
      "|[64.062]|      0|0.18958333333333333|\n",
      "|[59.723]|      0|                0.0|\n",
      "|[72.961]|      1|                1.0|\n",
      "|[82.208]|      1|                1.0|\n",
      "|[64.698]|      0|0.18958333333333333|\n",
      "| [70.65]|      1|                1.0|\n",
      "|[70.964]|      1|                1.0|\n",
      "|[59.545]|      0|                0.0|\n",
      "|[80.745]|      1|                1.0|\n",
      "|[82.603]|      1|                1.0|\n",
      "|[72.535]|      1|                1.0|\n",
      "|[67.297]|      1|                1.0|\n",
      "|[78.623]|      1|                1.0|\n",
      "|[77.588]|      1|                1.0|\n",
      "|[71.993]|      1|                1.0|\n",
      "|[74.241]|      1|                1.0|\n",
      "|[66.803]|      1|                1.0|\n",
      "|[62.069]|      0|0.26208333333333333|\n",
      "|[63.785]|      0|0.26208333333333333|\n",
      "| [75.64]|      1| 0.8650396825396826|\n",
      "|[65.483]|      1|                1.0|\n",
      "+--------+-------+-------------------+\n",
      "only showing top 100 rows\n",
      "\n"
     ]
    }
   ],
   "source": [
    "predictions.show(100)"
   ]
  },
  {
   "cell_type": "code",
   "execution_count": null,
   "metadata": {
    "collapsed": true
   },
   "outputs": [],
   "source": [
    "# find the cutoff value for predicting \"Over_65\"\n",
    "#\n",
    "# this part was a little surprising to me. Scikit-learn has a method for this: clf.tree_.threshold[0]\n",
    "# \n",
    "# unfortunately, looks like there isn't a method for this in SparkML? \n",
    "# you can see the tree by printing .toDebugString on your model and \n",
    "# inspecting for where a prediction value around 0.5 occurs\n",
    "# which appears to be around 63.925...\n",
    "#\n",
    "# not sure if this is really my only or best option, I've looked around \n",
    "# but haven't found a tidy api call for this..."
   ]
  },
  {
   "cell_type": "code",
   "execution_count": 37,
   "metadata": {},
   "outputs": [
    {
     "data": {
      "text/plain": [
       "'RandomForestRegressionModel (uid=RandomForestRegressor_df344b7bd79e) with 20 trees\\n  Tree 0 (weight 1.0):\\n    If (feature 0 <= 65.3175)\\n     Predict: 0.0\\n    Else (feature 0 > 65.3175)\\n     If (feature 0 <= 75.6375)\\n      Predict: 1.0\\n     Else (feature 0 > 75.6375)\\n      If (feature 0 <= 76.4325)\\n       Predict: 0.4\\n      Else (feature 0 > 76.4325)\\n       Predict: 1.0\\n  Tree 1 (weight 1.0):\\n    If (feature 0 <= 65.3175)\\n     Predict: 0.0\\n    Else (feature 0 > 65.3175)\\n     Predict: 1.0\\n  Tree 2 (weight 1.0):\\n    If (feature 0 <= 65.3175)\\n     If (feature 0 <= 60.468999999999994)\\n      Predict: 0.0\\n     Else (feature 0 > 60.468999999999994)\\n      If (feature 0 <= 63.9235)\\n       Predict: 0.5\\n      Else (feature 0 > 63.9235)\\n       Predict: 0.0\\n    Else (feature 0 > 65.3175)\\n     If (feature 0 <= 75.6375)\\n      Predict: 1.0\\n     Else (feature 0 > 75.6375)\\n      If (feature 0 <= 76.4325)\\n       Predict: 0.75\\n      Else (feature 0 > 76.4325)\\n       Predict: 1.0\\n  Tree 3 (weight 1.0):\\n    If (feature 0 <= 65.3175)\\n     If (feature 0 <= 60.468999999999994)\\n      Predict: 0.0\\n     Else (feature 0 > 60.468999999999994)\\n      If (feature 0 <= 63.9235)\\n       Predict: 0.25\\n      Else (feature 0 > 63.9235)\\n       Predict: 0.3333333333333333\\n    Else (feature 0 > 65.3175)\\n     Predict: 1.0\\n  Tree 4 (weight 1.0):\\n    If (feature 0 <= 65.3175)\\n     If (feature 0 <= 60.468999999999994)\\n      Predict: 0.0\\n     Else (feature 0 > 60.468999999999994)\\n      If (feature 0 <= 63.9235)\\n       Predict: 0.4\\n      Else (feature 0 > 63.9235)\\n       Predict: 0.16666666666666666\\n    Else (feature 0 > 65.3175)\\n     If (feature 0 <= 75.6375)\\n      Predict: 1.0\\n     Else (feature 0 > 75.6375)\\n      If (feature 0 <= 76.4325)\\n       Predict: 0.6666666666666666\\n      Else (feature 0 > 76.4325)\\n       Predict: 1.0\\n  Tree 5 (weight 1.0):\\n    If (feature 0 <= 65.3175)\\n     If (feature 0 <= 60.468999999999994)\\n      Predict: 0.0\\n     Else (feature 0 > 60.468999999999994)\\n      If (feature 0 <= 63.9235)\\n       Predict: 0.3333333333333333\\n      Else (feature 0 > 63.9235)\\n       Predict: 0.2\\n    Else (feature 0 > 65.3175)\\n     If (feature 0 <= 75.6375)\\n      Predict: 1.0\\n     Else (feature 0 > 75.6375)\\n      If (feature 0 <= 76.4325)\\n       Predict: 0.875\\n      Else (feature 0 > 76.4325)\\n       Predict: 1.0\\n  Tree 6 (weight 1.0):\\n    If (feature 0 <= 65.3175)\\n     If (feature 0 <= 60.468999999999994)\\n      Predict: 0.0\\n     Else (feature 0 > 60.468999999999994)\\n      If (feature 0 <= 63.9235)\\n       Predict: 0.5\\n      Else (feature 0 > 63.9235)\\n       Predict: 0.3333333333333333\\n    Else (feature 0 > 65.3175)\\n     If (feature 0 <= 75.6375)\\n      Predict: 1.0\\n     Else (feature 0 > 75.6375)\\n      If (feature 0 <= 76.4325)\\n       Predict: 0.75\\n      Else (feature 0 > 76.4325)\\n       Predict: 1.0\\n  Tree 7 (weight 1.0):\\n    If (feature 0 <= 65.3175)\\n     If (feature 0 <= 60.468999999999994)\\n      Predict: 0.0\\n     Else (feature 0 > 60.468999999999994)\\n      If (feature 0 <= 63.9235)\\n       Predict: 0.2\\n      Else (feature 0 > 63.9235)\\n       Predict: 0.16666666666666666\\n    Else (feature 0 > 65.3175)\\n     Predict: 1.0\\n  Tree 8 (weight 1.0):\\n    If (feature 0 <= 65.3175)\\n     If (feature 0 <= 60.468999999999994)\\n      Predict: 0.0\\n     Else (feature 0 > 60.468999999999994)\\n      If (feature 0 <= 63.9235)\\n       Predict: 0.25\\n      Else (feature 0 > 63.9235)\\n       Predict: 0.0\\n    Else (feature 0 > 65.3175)\\n     If (feature 0 <= 75.6375)\\n      Predict: 1.0\\n     Else (feature 0 > 75.6375)\\n      If (feature 0 <= 76.4325)\\n       Predict: 0.875\\n      Else (feature 0 > 76.4325)\\n       Predict: 1.0\\n  Tree 9 (weight 1.0):\\n    If (feature 0 <= 65.3175)\\n     If (feature 0 <= 60.468999999999994)\\n      Predict: 0.0\\n     Else (feature 0 > 60.468999999999994)\\n      If (feature 0 <= 63.9235)\\n       Predict: 0.2\\n      Else (feature 0 > 63.9235)\\n       Predict: 0.16666666666666666\\n    Else (feature 0 > 65.3175)\\n     If (feature 0 <= 75.6375)\\n      Predict: 1.0\\n     Else (feature 0 > 75.6375)\\n      If (feature 0 <= 76.4325)\\n       Predict: 0.8888888888888888\\n      Else (feature 0 > 76.4325)\\n       Predict: 1.0\\n  Tree 10 (weight 1.0):\\n    If (feature 0 <= 65.3175)\\n     If (feature 0 <= 60.468999999999994)\\n      Predict: 0.0\\n     Else (feature 0 > 60.468999999999994)\\n      If (feature 0 <= 63.9235)\\n       Predict: 0.5\\n      Else (feature 0 > 63.9235)\\n       Predict: 0.4\\n    Else (feature 0 > 65.3175)\\n     If (feature 0 <= 75.6375)\\n      Predict: 1.0\\n     Else (feature 0 > 75.6375)\\n      If (feature 0 <= 76.4325)\\n       Predict: 0.6666666666666666\\n      Else (feature 0 > 76.4325)\\n       Predict: 1.0\\n  Tree 11 (weight 1.0):\\n    If (feature 0 <= 65.3175)\\n     If (feature 0 <= 60.468999999999994)\\n      Predict: 0.0\\n     Else (feature 0 > 60.468999999999994)\\n      If (feature 0 <= 63.9235)\\n       Predict: 0.3333333333333333\\n      Else (feature 0 > 63.9235)\\n       Predict: 0.4\\n    Else (feature 0 > 65.3175)\\n     Predict: 1.0\\n  Tree 12 (weight 1.0):\\n    If (feature 0 <= 65.3175)\\n     If (feature 0 <= 60.468999999999994)\\n      Predict: 0.0\\n     Else (feature 0 > 60.468999999999994)\\n      If (feature 0 <= 63.9235)\\n       Predict: 0.2\\n      Else (feature 0 > 63.9235)\\n       Predict: 0.0\\n    Else (feature 0 > 65.3175)\\n     If (feature 0 <= 75.6375)\\n      Predict: 1.0\\n     Else (feature 0 > 75.6375)\\n      If (feature 0 <= 76.4325)\\n       Predict: 0.8571428571428571\\n      Else (feature 0 > 76.4325)\\n       Predict: 1.0\\n  Tree 13 (weight 1.0):\\n    If (feature 0 <= 65.3175)\\n     If (feature 0 <= 60.468999999999994)\\n      Predict: 0.0\\n     Else (feature 0 > 60.468999999999994)\\n      If (feature 0 <= 63.9235)\\n       Predict: 0.375\\n      Else (feature 0 > 63.9235)\\n       Predict: 0.125\\n    Else (feature 0 > 65.3175)\\n     Predict: 1.0\\n  Tree 14 (weight 1.0):\\n    If (feature 0 <= 63.9235)\\n     Predict: 0.0\\n    Else (feature 0 > 63.9235)\\n     If (feature 0 <= 75.6375)\\n      Predict: 1.0\\n     Else (feature 0 > 75.6375)\\n      If (feature 0 <= 76.4325)\\n       Predict: 0.7142857142857143\\n      Else (feature 0 > 76.4325)\\n       Predict: 1.0\\n  Tree 15 (weight 1.0):\\n    If (feature 0 <= 65.3175)\\n     If (feature 0 <= 60.468999999999994)\\n      Predict: 0.0\\n     Else (feature 0 > 60.468999999999994)\\n      If (feature 0 <= 63.9235)\\n       Predict: 0.6666666666666666\\n      Else (feature 0 > 63.9235)\\n       Predict: 0.16666666666666666\\n    Else (feature 0 > 65.3175)\\n     If (feature 0 <= 75.6375)\\n      Predict: 1.0\\n     Else (feature 0 > 75.6375)\\n      If (feature 0 <= 76.4325)\\n       Predict: 0.8571428571428571\\n      Else (feature 0 > 76.4325)\\n       Predict: 1.0\\n  Tree 16 (weight 1.0):\\n    If (feature 0 <= 65.3175)\\n     Predict: 0.0\\n    Else (feature 0 > 65.3175)\\n     Predict: 1.0\\n  Tree 17 (weight 1.0):\\n    If (feature 0 <= 65.3175)\\n     If (feature 0 <= 60.468999999999994)\\n      Predict: 0.0\\n     Else (feature 0 > 60.468999999999994)\\n      If (feature 0 <= 63.9235)\\n       Predict: 0.3333333333333333\\n      Else (feature 0 > 63.9235)\\n       Predict: 0.0\\n    Else (feature 0 > 65.3175)\\n     Predict: 1.0\\n  Tree 18 (weight 1.0):\\n    If (feature 0 <= 65.3175)\\n     If (feature 0 <= 60.468999999999994)\\n      Predict: 0.0\\n     Else (feature 0 > 60.468999999999994)\\n      If (feature 0 <= 63.9235)\\n       Predict: 0.2\\n      Else (feature 0 > 63.9235)\\n       Predict: 0.0\\n    Else (feature 0 > 65.3175)\\n     Predict: 1.0\\n  Tree 19 (weight 1.0):\\n    If (feature 0 <= 65.3175)\\n     If (feature 0 <= 63.9235)\\n      Predict: 0.0\\n     Else (feature 0 > 63.9235)\\n      Predict: 0.3333333333333333\\n    Else (feature 0 > 65.3175)\\n     Predict: 1.0\\n'"
      ]
     },
     "execution_count": 37,
     "metadata": {},
     "output_type": "execute_result"
    }
   ],
   "source": [
    "rf_model.toDebugString"
   ]
  },
  {
   "cell_type": "code",
   "execution_count": 38,
   "metadata": {
    "collapsed": true
   },
   "outputs": [],
   "source": [
    "# try logistic regression\n",
    "from pyspark.ml.classification import LogisticRegression"
   ]
  },
  {
   "cell_type": "code",
   "execution_count": 41,
   "metadata": {
    "collapsed": true
   },
   "outputs": [],
   "source": [
    "lr = LogisticRegression(maxIter=10, regParam=0.3, elasticNetParam=0.8,featuresCol=\"features\", labelCol=\"Over_65\",)"
   ]
  },
  {
   "cell_type": "code",
   "execution_count": 42,
   "metadata": {
    "collapsed": true
   },
   "outputs": [],
   "source": [
    "lrModel = lr.fit(va)"
   ]
  },
  {
   "cell_type": "code",
   "execution_count": 43,
   "metadata": {},
   "outputs": [
    {
     "data": {
      "text/plain": [
       "-0.47969926995683415"
      ]
     },
     "execution_count": 43,
     "metadata": {},
     "output_type": "execute_result"
    }
   ],
   "source": [
    "lrModel.intercept"
   ]
  },
  {
   "cell_type": "code",
   "execution_count": 44,
   "metadata": {},
   "outputs": [
    {
     "data": {
      "text/plain": [
       "[0.6569006935452156,\n",
       " 0.6547050641904729,\n",
       " 0.6545341290721645,\n",
       " 0.6540710709709727,\n",
       " 0.652286351873163,\n",
       " 0.6406910757613997,\n",
       " 0.63963401071486,\n",
       " 0.6393084114199987,\n",
       " 0.6360441600447867,\n",
       " 0.6327485585421929,\n",
       " 0.6303534937596784]"
      ]
     },
     "execution_count": 44,
     "metadata": {},
     "output_type": "execute_result"
    }
   ],
   "source": [
    "lrModel.summary.objectiveHistory"
   ]
  },
  {
   "cell_type": "code",
   "execution_count": 45,
   "metadata": {},
   "outputs": [
    {
     "name": "stdout",
     "output_type": "stream",
     "text": [
      "Coefficients: [0.014396655808173855]\n",
      "Intercept: -0.47969926995683415\n",
      "numIterations: 11\n",
      "objectiveHistory: [0.6569006935452156, 0.6547050641904729, 0.6545341290721645, 0.6540710709709727, 0.652286351873163, 0.6406910757613997, 0.63963401071486, 0.6393084114199987, 0.6360441600447867, 0.6327485585421929, 0.6303534937596784]\n"
     ]
    }
   ],
   "source": [
    "print(\"Coefficients: %s\" % str(lrModel.coefficients))\n",
    "print(\"Intercept: %s\" % str(lrModel.intercept))\n",
    "\n",
    "# Summarize the model over the training set and print out some metrics\n",
    "trainingSummary = lrModel.summary\n",
    "print(\"numIterations: %d\" % trainingSummary.totalIterations)\n",
    "print(\"objectiveHistory: %s\" % str(trainingSummary.objectiveHistory))"
   ]
  },
  {
   "cell_type": "code",
   "execution_count": null,
   "metadata": {
    "collapsed": true
   },
   "outputs": [],
   "source": []
  },
  {
   "cell_type": "code",
   "execution_count": 46,
   "metadata": {},
   "outputs": [
    {
     "name": "stdout",
     "output_type": "stream",
     "text": [
      "+--------+-------+\n",
      "|features|Over_65|\n",
      "+--------+-------+\n",
      "|[72.301]|      1|\n",
      "|[42.731]|      0|\n",
      "|[56.728]|      0|\n",
      "|[50.728]|      0|\n",
      "|[52.295]|      0|\n",
      "| [49.58]|      0|\n",
      "| [50.43]|      0|\n",
      "|[44.741]|      0|\n",
      "|[50.651]|      0|\n",
      "|[65.152]|      1|\n",
      "|[46.462]|      0|\n",
      "|[55.322]|      0|\n",
      "|[48.328]|      0|\n",
      "|[54.791]|      0|\n",
      "|[71.338]|      1|\n",
      "|[51.579]|      0|\n",
      "| [58.04]|      0|\n",
      "|[52.947]|      0|\n",
      "|[56.735]|      0|\n",
      "|[59.448]|      0|\n",
      "|[60.022]|      0|\n",
      "|[56.007]|      0|\n",
      "|[46.388]|      0|\n",
      "| [54.11]|      0|\n",
      "|[42.592]|      0|\n",
      "|[45.678]|      0|\n",
      "|[73.952]|      1|\n",
      "|[59.443]|      0|\n",
      "|[48.303]|      0|\n",
      "|[54.467]|      0|\n",
      "|[64.164]|      0|\n",
      "|[72.801]|      1|\n",
      "|[71.164]|      1|\n",
      "|[42.082]|      0|\n",
      "|[52.906]|      0|\n",
      "|[56.867]|      0|\n",
      "|[46.859]|      0|\n",
      "|[76.442]|      1|\n",
      "|[46.242]|      0|\n",
      "|[65.528]|      1|\n",
      "|[63.062]|      0|\n",
      "|[42.568]|      0|\n",
      "|[48.159]|      0|\n",
      "|[49.339]|      0|\n",
      "|[58.556]|      0|\n",
      "|[39.613]|      0|\n",
      "|[52.517]|      0|\n",
      "| [58.42]|      0|\n",
      "|[73.923]|      1|\n",
      "|[51.542]|      0|\n",
      "+--------+-------+\n",
      "only showing top 50 rows\n",
      "\n"
     ]
    }
   ],
   "source": [
    "vectorAssembler = VectorAssembler(inputCols = ['lifeExp_2007'], outputCol = 'features')\n",
    "va = vectorAssembler.transform(df)\n",
    "va = va.select(['features', 'Over_65'])\n",
    "va.show(50)"
   ]
  },
  {
   "cell_type": "code",
   "execution_count": 47,
   "metadata": {
    "collapsed": true
   },
   "outputs": [],
   "source": [
    "predictions = rf_model.transform(va)"
   ]
  },
  {
   "cell_type": "code",
   "execution_count": 48,
   "metadata": {},
   "outputs": [
    {
     "name": "stdout",
     "output_type": "stream",
     "text": [
      "+--------+-------+-------------------+\n",
      "|features|Over_65|         prediction|\n",
      "+--------+-------+-------------------+\n",
      "|[72.301]|      1|                1.0|\n",
      "|[42.731]|      0|                0.0|\n",
      "|[56.728]|      0|                0.0|\n",
      "|[50.728]|      0|                0.0|\n",
      "|[52.295]|      0|                0.0|\n",
      "| [49.58]|      0|                0.0|\n",
      "| [50.43]|      0|                0.0|\n",
      "|[44.741]|      0|                0.0|\n",
      "|[50.651]|      0|                0.0|\n",
      "|[65.152]|      1|0.18958333333333333|\n",
      "|[46.462]|      0|                0.0|\n",
      "|[55.322]|      0|                0.0|\n",
      "|[48.328]|      0|                0.0|\n",
      "|[54.791]|      0|                0.0|\n",
      "|[71.338]|      1|                1.0|\n",
      "|[51.579]|      0|                0.0|\n",
      "| [58.04]|      0|                0.0|\n",
      "|[52.947]|      0|                0.0|\n",
      "|[56.735]|      0|                0.0|\n",
      "|[59.448]|      0|                0.0|\n",
      "|[60.022]|      0|                0.0|\n",
      "|[56.007]|      0|                0.0|\n",
      "|[46.388]|      0|                0.0|\n",
      "| [54.11]|      0|                0.0|\n",
      "|[42.592]|      0|                0.0|\n",
      "|[45.678]|      0|                0.0|\n",
      "|[73.952]|      1|                1.0|\n",
      "|[59.443]|      0|                0.0|\n",
      "|[48.303]|      0|                0.0|\n",
      "|[54.467]|      0|                0.0|\n",
      "|[64.164]|      0|0.18958333333333333|\n",
      "|[72.801]|      1|                1.0|\n",
      "|[71.164]|      1|                1.0|\n",
      "|[42.082]|      0|                0.0|\n",
      "|[52.906]|      0|                0.0|\n",
      "|[56.867]|      0|                0.0|\n",
      "|[46.859]|      0|                0.0|\n",
      "|[76.442]|      1|                1.0|\n",
      "|[46.242]|      0|                0.0|\n",
      "|[65.528]|      1|                1.0|\n",
      "|[63.062]|      0|0.26208333333333333|\n",
      "|[42.568]|      0|                0.0|\n",
      "|[48.159]|      0|                0.0|\n",
      "|[49.339]|      0|                0.0|\n",
      "|[58.556]|      0|                0.0|\n",
      "|[39.613]|      0|                0.0|\n",
      "|[52.517]|      0|                0.0|\n",
      "| [58.42]|      0|                0.0|\n",
      "|[73.923]|      1|                1.0|\n",
      "|[51.542]|      0|                0.0|\n",
      "|[42.384]|      0|                0.0|\n",
      "|[43.487]|      0|                0.0|\n",
      "| [75.32]|      1|                1.0|\n",
      "|[65.554]|      1|                1.0|\n",
      "| [72.39]|      1|                1.0|\n",
      "|[80.653]|      1|                1.0|\n",
      "|[78.553]|      1|                1.0|\n",
      "|[72.889]|      1|                1.0|\n",
      "|[78.782]|      1|                1.0|\n",
      "|[78.273]|      1|                1.0|\n",
      "|[72.235]|      1|                1.0|\n",
      "|[74.994]|      1|                1.0|\n",
      "|[71.878]|      1|                1.0|\n",
      "|[70.259]|      1|                1.0|\n",
      "|[60.916]|      0|0.26208333333333333|\n",
      "|[70.198]|      1|                1.0|\n",
      "|[72.567]|      1|                1.0|\n",
      "|[76.195]|      1| 0.8650396825396826|\n",
      "|[72.899]|      1|                1.0|\n",
      "|[75.537]|      1|                1.0|\n",
      "|[71.752]|      1|                1.0|\n",
      "|[71.421]|      1|                1.0|\n",
      "|[78.746]|      1|                1.0|\n",
      "|[69.819]|      1|                1.0|\n",
      "|[78.242]|      1|                1.0|\n",
      "|[76.384]|      1| 0.8650396825396826|\n",
      "|[73.747]|      1|                1.0|\n",
      "|[43.828]|      0|                0.0|\n",
      "|[75.635]|      1|                1.0|\n",
      "|[64.062]|      0|0.18958333333333333|\n",
      "|[59.723]|      0|                0.0|\n",
      "|[72.961]|      1|                1.0|\n",
      "|[82.208]|      1|                1.0|\n",
      "|[64.698]|      0|0.18958333333333333|\n",
      "| [70.65]|      1|                1.0|\n",
      "|[70.964]|      1|                1.0|\n",
      "|[59.545]|      0|                0.0|\n",
      "|[80.745]|      1|                1.0|\n",
      "|[82.603]|      1|                1.0|\n",
      "|[72.535]|      1|                1.0|\n",
      "|[67.297]|      1|                1.0|\n",
      "|[78.623]|      1|                1.0|\n",
      "|[77.588]|      1|                1.0|\n",
      "|[71.993]|      1|                1.0|\n",
      "|[74.241]|      1|                1.0|\n",
      "|[66.803]|      1|                1.0|\n",
      "|[62.069]|      0|0.26208333333333333|\n",
      "|[63.785]|      0|0.26208333333333333|\n",
      "| [75.64]|      1| 0.8650396825396826|\n",
      "|[65.483]|      1|                1.0|\n",
      "+--------+-------+-------------------+\n",
      "only showing top 100 rows\n",
      "\n"
     ]
    }
   ],
   "source": [
    "predictions.show(100)"
   ]
  },
  {
   "cell_type": "code",
   "execution_count": 49,
   "metadata": {},
   "outputs": [
    {
     "data": {
      "text/plain": [
       "LogisticRegressionModel: uid = LogisticRegression_63ecc440f87d, numClasses = 2, numFeatures = 1"
      ]
     },
     "execution_count": 49,
     "metadata": {},
     "output_type": "execute_result"
    }
   ],
   "source": [
    "lrModel"
   ]
  },
  {
   "cell_type": "code",
   "execution_count": null,
   "metadata": {
    "collapsed": true
   },
   "outputs": [],
   "source": []
  },
  {
   "cell_type": "code",
   "execution_count": null,
   "metadata": {
    "collapsed": true
   },
   "outputs": [],
   "source": []
  }
 ],
 "metadata": {
  "kernelspec": {
   "display_name": "Python 3",
   "language": "python",
   "name": "python3"
  },
  "language_info": {
   "codemirror_mode": {
    "name": "ipython",
    "version": 3
   },
   "file_extension": ".py",
   "mimetype": "text/x-python",
   "name": "python",
   "nbconvert_exporter": "python",
   "pygments_lexer": "ipython3",
   "version": "3.5.4"
  }
 },
 "nbformat": 4,
 "nbformat_minor": 2
}
